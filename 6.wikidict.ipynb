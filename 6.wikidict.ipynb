{
 "cells": [
  {
   "cell_type": "code",
   "execution_count": 1,
   "metadata": {},
   "outputs": [],
   "source": [
    "from wiktionaryparser import WiktionaryParser\n",
    "parser = WiktionaryParser()\n",
    "parser.set_default_language('dutch')\n",
    "\n",
    "from words import WordData\n",
    "\n",
    "from paths import audio_dir, word_path"
   ]
  },
  {
   "cell_type": "code",
   "execution_count": 2,
   "metadata": {},
   "outputs": [],
   "source": [
    "import os\n",
    "import requests\n",
    "\n",
    "\n",
    "\n",
    "headers = {\n",
    "    'User-Agent': 'Mozilla/5.0 (Windows NT 10.0; Win64; x64) AppleWebKit/537.36 (KHTML, like Gecko) Chrome/120.0.0.0 Safari/537.36'\n",
    "}\n",
    "\n",
    "def download_audio(word: str, audio_url: str) -> str:\n",
    "\n",
    "    audio_path = os.path.join(audio_dir, f\"{word}.ogg\")\n",
    "    audio_url = \"https:\" + audio_url\n",
    "\n",
    "    resp = requests.get(audio_url, headers=headers)\n",
    "\n",
    "    with open(audio_path, \"wb\") as f:\n",
    "        f.write(resp.content)\n",
    "\n",
    "    return audio_path"
   ]
  },
  {
   "cell_type": "code",
   "execution_count": 3,
   "metadata": {},
   "outputs": [],
   "source": [
    "\n",
    "def download_wikidict_data(word_data: WordData)->None:\n",
    "\n",
    "    # Definition exists means already downloaded\n",
    "    if word_data.definitions:\n",
    "        return\n",
    "\n",
    "    result = parser.fetch(word_data.word)\n",
    "    if result == []:\n",
    "        # Does not exist. E.g., an English word\n",
    "        return\n",
    "    \n",
    "    definitions = []\n",
    "    audio_url = result[0]['pronunciations']['audio'][0] if result[0]['pronunciations']['audio'] else \"\"\n",
    "\n",
    "    if audio_url:\n",
    "        download_audio(word_data.word, audio_url)\n",
    "\n",
    "    for etymology in result:\n",
    "        \n",
    "        for definition in etymology['definitions']:\n",
    "            \n",
    "            part_of_speech = definition['partOfSpeech']\n",
    "            text = definition['text']\n",
    "            detail = text.pop(0)\n",
    "\n",
    "            # Noun\n",
    "            detail = detail.replace('\\xa0n', '(het)')\n",
    "            detail = detail.replace('\\xa0m', '(de)')\n",
    "\n",
    "            definitions.append([part_of_speech, detail, text])\n",
    "\n",
    "    word_data.definitions = definitions\n",
    "\n",
    "    return\n"
   ]
  },
  {
   "cell_type": "code",
   "execution_count": 4,
   "metadata": {},
   "outputs": [],
   "source": [
    "import pickle\n",
    "\n",
    "\n",
    "with open(word_path, \"rb\") as f:\n",
    "    all_words = pickle.load(f)"
   ]
  },
  {
   "cell_type": "code",
   "execution_count": 5,
   "metadata": {},
   "outputs": [
    {
     "name": "stderr",
     "output_type": "stream",
     "text": [
      "100%|██████████| 5838/5838 [1:17:37<00:00,  1.25it/s]\n"
     ]
    }
   ],
   "source": [
    "from tqdm import tqdm\n",
    "\n",
    "i = 0\n",
    "for word in tqdm(all_words):\n",
    "    i += 1\n",
    "    download_wikidict_data(word)\n",
    "\n",
    "    if i % 10 == 0:\n",
    "        with open(word_path, \"wb\") as f:\n",
    "            pickle.dump(all_words, f)\n",
    "\n"
   ]
  },
  {
   "cell_type": "code",
   "execution_count": null,
   "metadata": {},
   "outputs": [],
   "source": []
  }
 ],
 "metadata": {
  "kernelspec": {
   "display_name": "Python 3",
   "language": "python",
   "name": "python3"
  },
  "language_info": {
   "codemirror_mode": {
    "name": "ipython",
    "version": 3
   },
   "file_extension": ".py",
   "mimetype": "text/x-python",
   "name": "python",
   "nbconvert_exporter": "python",
   "pygments_lexer": "ipython3",
   "version": "3.10.6"
  }
 },
 "nbformat": 4,
 "nbformat_minor": 2
}
