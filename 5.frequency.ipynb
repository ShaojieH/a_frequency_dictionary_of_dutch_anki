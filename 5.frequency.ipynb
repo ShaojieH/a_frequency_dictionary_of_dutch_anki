{
 "cells": [
  {
   "cell_type": "code",
   "execution_count": null,
   "metadata": {},
   "outputs": [],
   "source": [
    "from words import WordData\n",
    "from nlp import get_stem\n",
    "\n",
    "from paths import word_path, anki_csv_path, sentence_data_path"
   ]
  },
  {
   "cell_type": "code",
   "execution_count": null,
   "metadata": {},
   "outputs": [],
   "source": [
    "all_words = []"
   ]
  },
  {
   "cell_type": "code",
   "execution_count": null,
   "metadata": {},
   "outputs": [],
   "source": [
    "import csv\n",
    "\n",
    "with open(anki_csv_path, newline='\\n') as f:\n",
    "    reader = csv.reader(f, delimiter='\\t')\n",
    "    next(reader)\n",
    "\n",
    "    for line in reader:\n",
    "\n",
    "        word = line[4].split(',')[0].split(' ')[0]\n",
    "        subdeck = line[3].split('_')[0]\n",
    "\n",
    "        word_data = WordData(word)\n",
    "        word_data.stem = get_stem(word)\n",
    "        word_data.subdeck = subdeck\n",
    "\n",
    "        all_words.append(word_data)\n"
   ]
  },
  {
   "cell_type": "code",
   "execution_count": null,
   "metadata": {},
   "outputs": [],
   "source": [
    "import pickle\n",
    "with open(sentence_data_path, \"rb\") as f:\n",
    "    all_sentences = pickle.load(f)"
   ]
  },
  {
   "cell_type": "code",
   "execution_count": null,
   "metadata": {},
   "outputs": [],
   "source": [
    "from collections import defaultdict\n",
    "from itertools import cycle\n",
    "\n",
    "def choose_sentences(sentences, stem, max_samples=3):\n",
    "    # Group sentences by the actual word corresponding to the stem\n",
    "    grouped_sentences = defaultdict(list)\n",
    "    for sentence in sentences:\n",
    "        word = sentence.stem_mappings[stem]\n",
    "        grouped_sentences[word].append(sentence)\n",
    "\n",
    "    # Sort sentences within each group by their length (shortest first)\n",
    "    for group in grouped_sentences.values():\n",
    "        group.sort(key=lambda s: len(s.text))\n",
    "\n",
    "    # Create a round-robin iterator over the sentence groups\n",
    "    round_robin_iterator = cycle(grouped_sentences.values())\n",
    "\n",
    "    # Select sentences ensuring diversity in actual words, and choosing the shortest one from each group\n",
    "    selected_sentences = []\n",
    "    while len(selected_sentences) < min(max_samples, len(sentences)):\n",
    "        try:\n",
    "            group = next(round_robin_iterator)\n",
    "            if group:  # Check if the group still has sentences left\n",
    "                selected_sentences.append(group.pop(0))  # Select the shortest sentence\n",
    "        except StopIteration:\n",
    "            break  # Break if all groups are exhausted\n",
    "\n",
    "    return selected_sentences\n",
    "\n",
    "sentences = list(filter(lambda sentence: get_stem(\"delen\")  in sentence.stem_mappings, all_sentences.values()))\n",
    "sentences\n",
    "print(choose_sentences(sentences, get_stem(\"delen\")))"
   ]
  },
  {
   "cell_type": "code",
   "execution_count": null,
   "metadata": {},
   "outputs": [],
   "source": [
    "import random\n",
    "\n",
    "\n",
    "for word_data in all_words:\n",
    "    stem = word_data.stem\n",
    "    sentences = list(filter(lambda sentence: stem in sentence.stem_mappings, all_sentences.values()))\n",
    "    \n",
    "    sampled = choose_sentences(sentences, stem)\n",
    "    \n",
    "    word_data.sentences_text = list(map(lambda sentence: sentence.text, sampled))\n",
    "    word_data.sentences_translation = list(map(lambda sentence: sentence.translation, sampled))\n",
    "    word_data.sentences_audio = list(map(lambda sentence: sentence.audio_id, sampled))\n",
    "\n",
    "random.choice(all_words)\n"
   ]
  },
  {
   "cell_type": "code",
   "execution_count": null,
   "metadata": {},
   "outputs": [],
   "source": [
    "with open(word_path, \"wb\") as f:\n",
    "    pickle.dump(all_words, f)"
   ]
  }
 ],
 "metadata": {
  "kernelspec": {
   "display_name": "Python 3",
   "language": "python",
   "name": "python3"
  },
  "language_info": {
   "codemirror_mode": {
    "name": "ipython",
    "version": 3
   },
   "file_extension": ".py",
   "mimetype": "text/x-python",
   "name": "python",
   "nbconvert_exporter": "python",
   "pygments_lexer": "ipython3",
   "version": "3.10.6"
  }
 },
 "nbformat": 4,
 "nbformat_minor": 2
}
