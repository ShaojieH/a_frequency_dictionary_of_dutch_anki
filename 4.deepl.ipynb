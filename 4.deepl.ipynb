{
 "cells": [
  {
   "cell_type": "code",
   "execution_count": null,
   "metadata": {},
   "outputs": [],
   "source": [
    "from typing import List\n",
    "import deepl\n",
    "\n",
    "from paths import sentence_data_path\n",
    "\n",
    "auth_key = \"ed7ba6a1-2b3c-3360-af66-65b56b0633b1:fx\"\n",
    "translator = deepl.Translator(auth_key)\n",
    "def get_translation(texts: List[str])-> List[str]:\n",
    "    results = translator.translate_text(\n",
    "        texts, \n",
    "        source_lang=\"NL\", \n",
    "        target_lang=\"EN-US\",\n",
    "        split_sentences='off')\n",
    "    return list(map(lambda result: result.text, results))\n"
   ]
  },
  {
   "cell_type": "code",
   "execution_count": null,
   "metadata": {},
   "outputs": [],
   "source": [
    "import pickle\n",
    "\n",
    "untranslated = []\n",
    "\n",
    "with open(sentence_data_path, \"rb\") as f:\n",
    "    all_sentences = pickle.load(f)\n",
    "    for k, v in all_sentences.items():\n",
    "        if v.translation == \"\":\n",
    "            untranslated.append((k, v))\n",
    "\n",
    "untranslated_sentences = list(map(lambda x: x[1].text, untranslated))\n",
    "translated = get_translation(untranslated_sentences)"
   ]
  },
  {
   "cell_type": "code",
   "execution_count": null,
   "metadata": {},
   "outputs": [],
   "source": [
    "for (sentence_id, data), sentence_translated in zip(untranslated, translated):\n",
    "    all_sentences[sentence_id].translation = sentence_translated\n",
    "\n"
   ]
  },
  {
   "cell_type": "code",
   "execution_count": null,
   "metadata": {},
   "outputs": [],
   "source": [
    "import pickle\n",
    "with open(sentence_data_path, \"wb\") as f:\n",
    "    pickle.dump(all_sentences, f)"
   ]
  }
 ],
 "metadata": {
  "kernelspec": {
   "display_name": "Python 3",
   "language": "python",
   "name": "python3"
  },
  "language_info": {
   "codemirror_mode": {
    "name": "ipython",
    "version": 3
   },
   "file_extension": ".py",
   "mimetype": "text/x-python",
   "name": "python",
   "nbconvert_exporter": "python",
   "pygments_lexer": "ipython3",
   "version": "3.10.6"
  }
 },
 "nbformat": 4,
 "nbformat_minor": 2
}
