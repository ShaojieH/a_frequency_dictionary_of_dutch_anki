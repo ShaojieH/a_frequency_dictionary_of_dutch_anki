{
 "cells": [
  {
   "cell_type": "code",
   "execution_count": 1,
   "metadata": {},
   "outputs": [],
   "source": [
    "from paths import sentences_path, output_path, sentence_data_path"
   ]
  },
  {
   "cell_type": "code",
   "execution_count": 2,
   "metadata": {},
   "outputs": [],
   "source": [
    "from sentence import SentenceData\n",
    "all_sentences = {}"
   ]
  },
  {
   "cell_type": "code",
   "execution_count": 3,
   "metadata": {},
   "outputs": [],
   "source": [
    "import csv\n",
    "with open(output_path) as f:\n",
    "    csvreader = csv.reader(f)\n",
    "    for entry in csvreader:\n",
    "        sentence_id, audio_id = entry[0], entry[1]\n",
    "        data = SentenceData()\n",
    "        data.audio_id = audio_id\n",
    "        all_sentences[sentence_id] = data"
   ]
  },
  {
   "cell_type": "code",
   "execution_count": 4,
   "metadata": {},
   "outputs": [],
   "source": [
    "\n",
    "from nlp import get_stem, get_tokens\n",
    "\n",
    "with open(sentences_path, encoding='UTF8') as f:\n",
    "\n",
    "    for line in f.readlines():\n",
    "        entry = line.split(maxsplit=2)\n",
    "        sentence_id, text = entry[0], entry[2].strip()\n",
    "\n",
    "        tokens = get_tokens(text)\n",
    "        stem_mappings = {}\n",
    "        for token in tokens:\n",
    "            stem_mappings[get_stem(token)] = token.lower()\n",
    "        \n",
    "        if sentence_id in all_sentences:\n",
    "\n",
    "            all_sentences[sentence_id].text = text\n",
    "            all_sentences[sentence_id].stem_mappings = stem_mappings"
   ]
  },
  {
   "cell_type": "code",
   "execution_count": 5,
   "metadata": {},
   "outputs": [],
   "source": [
    "with open('data/Sentence pairs in Dutch-English - 2024-01-14.tsv', encoding='utf8') as f:\n",
    "    csvreader = csv.reader(f, delimiter='\\t')\n",
    "    for line in csvreader:\n",
    "        sentence_id, translation = line[0], line[3]\n",
    "\n",
    "        if sentence_id in all_sentences:\n",
    "\n",
    "            all_sentences[sentence_id].translation = translation\n"
   ]
  },
  {
   "cell_type": "code",
   "execution_count": 6,
   "metadata": {},
   "outputs": [],
   "source": [
    "import pickle\n",
    "with open(sentence_data_path, \"wb\") as f:\n",
    "    pickle.dump(all_sentences, f)"
   ]
  },
  {
   "cell_type": "code",
   "execution_count": 7,
   "metadata": {},
   "outputs": [
    {
     "data": {
      "text/plain": [
       "30153: Ik ben er weer! O, hebben we visite?, {'ik': 'ik', 'ben': 'ben', 'er': 'er', 'wer': 'weer', '!': '!', 'o': 'o', ',': ',', 'hebb': 'hebben', 'we': 'we', 'visit': 'visite', '?': '?'}->I'm back! Oh? Have we got a guest?"
      ]
     },
     "execution_count": 7,
     "metadata": {},
     "output_type": "execute_result"
    }
   ],
   "source": [
    "all_sentences['377914']"
   ]
  }
 ],
 "metadata": {
  "kernelspec": {
   "display_name": "Python 3",
   "language": "python",
   "name": "python3"
  },
  "language_info": {
   "codemirror_mode": {
    "name": "ipython",
    "version": 3
   },
   "file_extension": ".py",
   "mimetype": "text/x-python",
   "name": "python",
   "nbconvert_exporter": "python",
   "pygments_lexer": "ipython3",
   "version": "3.10.6"
  }
 },
 "nbformat": 4,
 "nbformat_minor": 2
}
